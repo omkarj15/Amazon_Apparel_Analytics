{
 "cells": [
  {
   "cell_type": "markdown",
   "id": "47f71cbf",
   "metadata": {},
   "source": [
    "###  Importing Data & Library's :"
   ]
  },
  {
   "cell_type": "code",
   "execution_count": 1,
   "id": "7d5973f1",
   "metadata": {},
   "outputs": [],
   "source": [
    "import pandas as pd\n",
    "import numpy as np\n",
    "import seaborn as sns\n",
    "import matplotlib.pyplot as plt\n",
    "import plotly.express as px"
   ]
  },
  {
   "cell_type": "code",
   "execution_count": 2,
   "id": "b0d8cefc",
   "metadata": {},
   "outputs": [
    {
     "data": {
      "text/html": [
       "<div>\n",
       "<style scoped>\n",
       "    .dataframe tbody tr th:only-of-type {\n",
       "        vertical-align: middle;\n",
       "    }\n",
       "\n",
       "    .dataframe tbody tr th {\n",
       "        vertical-align: top;\n",
       "    }\n",
       "\n",
       "    .dataframe thead th {\n",
       "        text-align: right;\n",
       "    }\n",
       "</style>\n",
       "<table border=\"1\" class=\"dataframe\">\n",
       "  <thead>\n",
       "    <tr style=\"text-align: right;\">\n",
       "      <th></th>\n",
       "      <th>index</th>\n",
       "      <th>Order ID</th>\n",
       "      <th>Date</th>\n",
       "      <th>Status</th>\n",
       "      <th>Fulfilment</th>\n",
       "      <th>Sales Channel</th>\n",
       "      <th>ship-service-level</th>\n",
       "      <th>Style</th>\n",
       "      <th>SKU</th>\n",
       "      <th>Category</th>\n",
       "      <th>...</th>\n",
       "      <th>currency</th>\n",
       "      <th>Amount</th>\n",
       "      <th>ship-city</th>\n",
       "      <th>ship-state</th>\n",
       "      <th>ship-postal-code</th>\n",
       "      <th>ship-country</th>\n",
       "      <th>promotion-ids</th>\n",
       "      <th>B2B</th>\n",
       "      <th>fulfilled-by</th>\n",
       "      <th>Unnamed: 22</th>\n",
       "    </tr>\n",
       "  </thead>\n",
       "  <tbody>\n",
       "    <tr>\n",
       "      <th>0</th>\n",
       "      <td>0</td>\n",
       "      <td>405-8078784-5731545</td>\n",
       "      <td>04-30-22</td>\n",
       "      <td>Cancelled</td>\n",
       "      <td>Merchant</td>\n",
       "      <td>Amazon.in</td>\n",
       "      <td>Standard</td>\n",
       "      <td>SET389</td>\n",
       "      <td>SET389-KR-NP-S</td>\n",
       "      <td>Set</td>\n",
       "      <td>...</td>\n",
       "      <td>INR</td>\n",
       "      <td>647.62</td>\n",
       "      <td>MUMBAI</td>\n",
       "      <td>MAHARASHTRA</td>\n",
       "      <td>400081.0</td>\n",
       "      <td>IN</td>\n",
       "      <td>NaN</td>\n",
       "      <td>False</td>\n",
       "      <td>Easy Ship</td>\n",
       "      <td>NaN</td>\n",
       "    </tr>\n",
       "    <tr>\n",
       "      <th>1</th>\n",
       "      <td>1</td>\n",
       "      <td>171-9198151-1101146</td>\n",
       "      <td>04-30-22</td>\n",
       "      <td>Shipped - Delivered to Buyer</td>\n",
       "      <td>Merchant</td>\n",
       "      <td>Amazon.in</td>\n",
       "      <td>Standard</td>\n",
       "      <td>JNE3781</td>\n",
       "      <td>JNE3781-KR-XXXL</td>\n",
       "      <td>kurta</td>\n",
       "      <td>...</td>\n",
       "      <td>INR</td>\n",
       "      <td>406.00</td>\n",
       "      <td>BENGALURU</td>\n",
       "      <td>KARNATAKA</td>\n",
       "      <td>560085.0</td>\n",
       "      <td>IN</td>\n",
       "      <td>Amazon PLCC Free-Financing Universal Merchant ...</td>\n",
       "      <td>False</td>\n",
       "      <td>Easy Ship</td>\n",
       "      <td>NaN</td>\n",
       "    </tr>\n",
       "    <tr>\n",
       "      <th>2</th>\n",
       "      <td>2</td>\n",
       "      <td>404-0687676-7273146</td>\n",
       "      <td>04-30-22</td>\n",
       "      <td>Shipped</td>\n",
       "      <td>Amazon</td>\n",
       "      <td>Amazon.in</td>\n",
       "      <td>Expedited</td>\n",
       "      <td>JNE3371</td>\n",
       "      <td>JNE3371-KR-XL</td>\n",
       "      <td>kurta</td>\n",
       "      <td>...</td>\n",
       "      <td>INR</td>\n",
       "      <td>329.00</td>\n",
       "      <td>NAVI MUMBAI</td>\n",
       "      <td>MAHARASHTRA</td>\n",
       "      <td>410210.0</td>\n",
       "      <td>IN</td>\n",
       "      <td>IN Core Free Shipping 2015/04/08 23-48-5-108</td>\n",
       "      <td>True</td>\n",
       "      <td>NaN</td>\n",
       "      <td>NaN</td>\n",
       "    </tr>\n",
       "    <tr>\n",
       "      <th>3</th>\n",
       "      <td>3</td>\n",
       "      <td>403-9615377-8133951</td>\n",
       "      <td>04-30-22</td>\n",
       "      <td>Cancelled</td>\n",
       "      <td>Merchant</td>\n",
       "      <td>Amazon.in</td>\n",
       "      <td>Standard</td>\n",
       "      <td>J0341</td>\n",
       "      <td>J0341-DR-L</td>\n",
       "      <td>Western Dress</td>\n",
       "      <td>...</td>\n",
       "      <td>INR</td>\n",
       "      <td>753.33</td>\n",
       "      <td>PUDUCHERRY</td>\n",
       "      <td>PUDUCHERRY</td>\n",
       "      <td>605008.0</td>\n",
       "      <td>IN</td>\n",
       "      <td>NaN</td>\n",
       "      <td>False</td>\n",
       "      <td>Easy Ship</td>\n",
       "      <td>NaN</td>\n",
       "    </tr>\n",
       "    <tr>\n",
       "      <th>4</th>\n",
       "      <td>4</td>\n",
       "      <td>407-1069790-7240320</td>\n",
       "      <td>04-30-22</td>\n",
       "      <td>Shipped</td>\n",
       "      <td>Amazon</td>\n",
       "      <td>Amazon.in</td>\n",
       "      <td>Expedited</td>\n",
       "      <td>JNE3671</td>\n",
       "      <td>JNE3671-TU-XXXL</td>\n",
       "      <td>Top</td>\n",
       "      <td>...</td>\n",
       "      <td>INR</td>\n",
       "      <td>574.00</td>\n",
       "      <td>CHENNAI</td>\n",
       "      <td>TAMIL NADU</td>\n",
       "      <td>600073.0</td>\n",
       "      <td>IN</td>\n",
       "      <td>NaN</td>\n",
       "      <td>False</td>\n",
       "      <td>NaN</td>\n",
       "      <td>NaN</td>\n",
       "    </tr>\n",
       "  </tbody>\n",
       "</table>\n",
       "<p>5 rows × 24 columns</p>\n",
       "</div>"
      ],
      "text/plain": [
       "   index             Order ID      Date                        Status  \\\n",
       "0      0  405-8078784-5731545  04-30-22                     Cancelled   \n",
       "1      1  171-9198151-1101146  04-30-22  Shipped - Delivered to Buyer   \n",
       "2      2  404-0687676-7273146  04-30-22                       Shipped   \n",
       "3      3  403-9615377-8133951  04-30-22                     Cancelled   \n",
       "4      4  407-1069790-7240320  04-30-22                       Shipped   \n",
       "\n",
       "  Fulfilment Sales Channel  ship-service-level    Style              SKU  \\\n",
       "0   Merchant      Amazon.in           Standard   SET389   SET389-KR-NP-S   \n",
       "1   Merchant      Amazon.in           Standard  JNE3781  JNE3781-KR-XXXL   \n",
       "2     Amazon      Amazon.in          Expedited  JNE3371    JNE3371-KR-XL   \n",
       "3   Merchant      Amazon.in           Standard    J0341       J0341-DR-L   \n",
       "4     Amazon      Amazon.in          Expedited  JNE3671  JNE3671-TU-XXXL   \n",
       "\n",
       "        Category  ... currency  Amount    ship-city   ship-state  \\\n",
       "0            Set  ...      INR  647.62       MUMBAI  MAHARASHTRA   \n",
       "1          kurta  ...      INR  406.00    BENGALURU    KARNATAKA   \n",
       "2          kurta  ...      INR  329.00  NAVI MUMBAI  MAHARASHTRA   \n",
       "3  Western Dress  ...      INR  753.33   PUDUCHERRY   PUDUCHERRY   \n",
       "4            Top  ...      INR  574.00      CHENNAI   TAMIL NADU   \n",
       "\n",
       "  ship-postal-code  ship-country  \\\n",
       "0         400081.0            IN   \n",
       "1         560085.0            IN   \n",
       "2         410210.0            IN   \n",
       "3         605008.0            IN   \n",
       "4         600073.0            IN   \n",
       "\n",
       "                                       promotion-ids    B2B  fulfilled-by  \\\n",
       "0                                                NaN  False     Easy Ship   \n",
       "1  Amazon PLCC Free-Financing Universal Merchant ...  False     Easy Ship   \n",
       "2       IN Core Free Shipping 2015/04/08 23-48-5-108   True           NaN   \n",
       "3                                                NaN  False     Easy Ship   \n",
       "4                                                NaN  False           NaN   \n",
       "\n",
       "  Unnamed: 22  \n",
       "0         NaN  \n",
       "1         NaN  \n",
       "2         NaN  \n",
       "3         NaN  \n",
       "4         NaN  \n",
       "\n",
       "[5 rows x 24 columns]"
      ]
     },
     "execution_count": 2,
     "metadata": {},
     "output_type": "execute_result"
    }
   ],
   "source": [
    "df = pd.read_csv(r\"C:\\Users\\DELL\\Downloads\\Qube Asia\\archive (60)\\Amazon Sale Report.csv\", low_memory= False)\n",
    "df.head()"
   ]
  },
  {
   "cell_type": "code",
   "execution_count": 3,
   "id": "e4ca780f",
   "metadata": {},
   "outputs": [
    {
     "data": {
      "text/html": [
       "<div>\n",
       "<style scoped>\n",
       "    .dataframe tbody tr th:only-of-type {\n",
       "        vertical-align: middle;\n",
       "    }\n",
       "\n",
       "    .dataframe tbody tr th {\n",
       "        vertical-align: top;\n",
       "    }\n",
       "\n",
       "    .dataframe thead th {\n",
       "        text-align: right;\n",
       "    }\n",
       "</style>\n",
       "<table border=\"1\" class=\"dataframe\">\n",
       "  <thead>\n",
       "    <tr style=\"text-align: right;\">\n",
       "      <th></th>\n",
       "      <th>index</th>\n",
       "      <th>Order ID</th>\n",
       "      <th>Date</th>\n",
       "      <th>Status</th>\n",
       "      <th>Fulfilment</th>\n",
       "      <th>Sales Channel</th>\n",
       "      <th>ship-service-level</th>\n",
       "      <th>Style</th>\n",
       "      <th>SKU</th>\n",
       "      <th>Category</th>\n",
       "      <th>...</th>\n",
       "      <th>currency</th>\n",
       "      <th>Amount</th>\n",
       "      <th>ship-city</th>\n",
       "      <th>ship-state</th>\n",
       "      <th>ship-postal-code</th>\n",
       "      <th>ship-country</th>\n",
       "      <th>promotion-ids</th>\n",
       "      <th>B2B</th>\n",
       "      <th>fulfilled-by</th>\n",
       "      <th>Unnamed: 22</th>\n",
       "    </tr>\n",
       "  </thead>\n",
       "  <tbody>\n",
       "    <tr>\n",
       "      <th>128970</th>\n",
       "      <td>128970</td>\n",
       "      <td>406-6001380-7673107</td>\n",
       "      <td>05-31-22</td>\n",
       "      <td>Shipped</td>\n",
       "      <td>Amazon</td>\n",
       "      <td>Amazon.in</td>\n",
       "      <td>Expedited</td>\n",
       "      <td>JNE3697</td>\n",
       "      <td>JNE3697-KR-XL</td>\n",
       "      <td>kurta</td>\n",
       "      <td>...</td>\n",
       "      <td>INR</td>\n",
       "      <td>517.0</td>\n",
       "      <td>HYDERABAD</td>\n",
       "      <td>TELANGANA</td>\n",
       "      <td>500013.0</td>\n",
       "      <td>IN</td>\n",
       "      <td>NaN</td>\n",
       "      <td>False</td>\n",
       "      <td>NaN</td>\n",
       "      <td>False</td>\n",
       "    </tr>\n",
       "    <tr>\n",
       "      <th>128971</th>\n",
       "      <td>128971</td>\n",
       "      <td>402-9551604-7544318</td>\n",
       "      <td>05-31-22</td>\n",
       "      <td>Shipped</td>\n",
       "      <td>Amazon</td>\n",
       "      <td>Amazon.in</td>\n",
       "      <td>Expedited</td>\n",
       "      <td>SET401</td>\n",
       "      <td>SET401-KR-NP-M</td>\n",
       "      <td>Set</td>\n",
       "      <td>...</td>\n",
       "      <td>INR</td>\n",
       "      <td>999.0</td>\n",
       "      <td>GURUGRAM</td>\n",
       "      <td>HARYANA</td>\n",
       "      <td>122004.0</td>\n",
       "      <td>IN</td>\n",
       "      <td>IN Core Free Shipping 2015/04/08 23-48-5-108</td>\n",
       "      <td>False</td>\n",
       "      <td>NaN</td>\n",
       "      <td>False</td>\n",
       "    </tr>\n",
       "    <tr>\n",
       "      <th>128972</th>\n",
       "      <td>128972</td>\n",
       "      <td>407-9547469-3152358</td>\n",
       "      <td>05-31-22</td>\n",
       "      <td>Shipped</td>\n",
       "      <td>Amazon</td>\n",
       "      <td>Amazon.in</td>\n",
       "      <td>Expedited</td>\n",
       "      <td>J0157</td>\n",
       "      <td>J0157-DR-XXL</td>\n",
       "      <td>Western Dress</td>\n",
       "      <td>...</td>\n",
       "      <td>INR</td>\n",
       "      <td>690.0</td>\n",
       "      <td>HYDERABAD</td>\n",
       "      <td>TELANGANA</td>\n",
       "      <td>500049.0</td>\n",
       "      <td>IN</td>\n",
       "      <td>NaN</td>\n",
       "      <td>False</td>\n",
       "      <td>NaN</td>\n",
       "      <td>False</td>\n",
       "    </tr>\n",
       "    <tr>\n",
       "      <th>128973</th>\n",
       "      <td>128973</td>\n",
       "      <td>402-6184140-0545956</td>\n",
       "      <td>05-31-22</td>\n",
       "      <td>Shipped</td>\n",
       "      <td>Amazon</td>\n",
       "      <td>Amazon.in</td>\n",
       "      <td>Expedited</td>\n",
       "      <td>J0012</td>\n",
       "      <td>J0012-SKD-XS</td>\n",
       "      <td>Set</td>\n",
       "      <td>...</td>\n",
       "      <td>INR</td>\n",
       "      <td>1199.0</td>\n",
       "      <td>Halol</td>\n",
       "      <td>Gujarat</td>\n",
       "      <td>389350.0</td>\n",
       "      <td>IN</td>\n",
       "      <td>IN Core Free Shipping 2015/04/08 23-48-5-108</td>\n",
       "      <td>False</td>\n",
       "      <td>NaN</td>\n",
       "      <td>False</td>\n",
       "    </tr>\n",
       "    <tr>\n",
       "      <th>128974</th>\n",
       "      <td>128974</td>\n",
       "      <td>408-7436540-8728312</td>\n",
       "      <td>05-31-22</td>\n",
       "      <td>Shipped</td>\n",
       "      <td>Amazon</td>\n",
       "      <td>Amazon.in</td>\n",
       "      <td>Expedited</td>\n",
       "      <td>J0003</td>\n",
       "      <td>J0003-SET-S</td>\n",
       "      <td>Set</td>\n",
       "      <td>...</td>\n",
       "      <td>INR</td>\n",
       "      <td>696.0</td>\n",
       "      <td>Raipur</td>\n",
       "      <td>CHHATTISGARH</td>\n",
       "      <td>492014.0</td>\n",
       "      <td>IN</td>\n",
       "      <td>IN Core Free Shipping 2015/04/08 23-48-5-108</td>\n",
       "      <td>False</td>\n",
       "      <td>NaN</td>\n",
       "      <td>False</td>\n",
       "    </tr>\n",
       "  </tbody>\n",
       "</table>\n",
       "<p>5 rows × 24 columns</p>\n",
       "</div>"
      ],
      "text/plain": [
       "         index             Order ID      Date   Status Fulfilment  \\\n",
       "128970  128970  406-6001380-7673107  05-31-22  Shipped     Amazon   \n",
       "128971  128971  402-9551604-7544318  05-31-22  Shipped     Amazon   \n",
       "128972  128972  407-9547469-3152358  05-31-22  Shipped     Amazon   \n",
       "128973  128973  402-6184140-0545956  05-31-22  Shipped     Amazon   \n",
       "128974  128974  408-7436540-8728312  05-31-22  Shipped     Amazon   \n",
       "\n",
       "       Sales Channel  ship-service-level    Style             SKU  \\\n",
       "128970      Amazon.in          Expedited  JNE3697   JNE3697-KR-XL   \n",
       "128971      Amazon.in          Expedited   SET401  SET401-KR-NP-M   \n",
       "128972      Amazon.in          Expedited    J0157    J0157-DR-XXL   \n",
       "128973      Amazon.in          Expedited    J0012    J0012-SKD-XS   \n",
       "128974      Amazon.in          Expedited    J0003     J0003-SET-S   \n",
       "\n",
       "             Category  ... currency  Amount  ship-city    ship-state  \\\n",
       "128970          kurta  ...      INR   517.0  HYDERABAD     TELANGANA   \n",
       "128971            Set  ...      INR   999.0   GURUGRAM       HARYANA   \n",
       "128972  Western Dress  ...      INR   690.0  HYDERABAD     TELANGANA   \n",
       "128973            Set  ...      INR  1199.0      Halol       Gujarat   \n",
       "128974            Set  ...      INR   696.0     Raipur  CHHATTISGARH   \n",
       "\n",
       "       ship-postal-code  ship-country  \\\n",
       "128970         500013.0            IN   \n",
       "128971         122004.0            IN   \n",
       "128972         500049.0            IN   \n",
       "128973         389350.0            IN   \n",
       "128974         492014.0            IN   \n",
       "\n",
       "                                       promotion-ids    B2B  fulfilled-by  \\\n",
       "128970                                           NaN  False           NaN   \n",
       "128971  IN Core Free Shipping 2015/04/08 23-48-5-108  False           NaN   \n",
       "128972                                           NaN  False           NaN   \n",
       "128973  IN Core Free Shipping 2015/04/08 23-48-5-108  False           NaN   \n",
       "128974  IN Core Free Shipping 2015/04/08 23-48-5-108  False           NaN   \n",
       "\n",
       "       Unnamed: 22  \n",
       "128970       False  \n",
       "128971       False  \n",
       "128972       False  \n",
       "128973       False  \n",
       "128974       False  \n",
       "\n",
       "[5 rows x 24 columns]"
      ]
     },
     "execution_count": 3,
     "metadata": {},
     "output_type": "execute_result"
    }
   ],
   "source": [
    "df.tail()"
   ]
  },
  {
   "cell_type": "markdown",
   "id": "98e82413",
   "metadata": {},
   "source": [
    "### Data Cleaning"
   ]
  },
  {
   "cell_type": "code",
   "execution_count": 4,
   "id": "cf9916d3",
   "metadata": {},
   "outputs": [
    {
     "data": {
      "text/plain": [
       "(128975, 24)"
      ]
     },
     "execution_count": 4,
     "metadata": {},
     "output_type": "execute_result"
    }
   ],
   "source": [
    "df.shape"
   ]
  },
  {
   "cell_type": "code",
   "execution_count": 5,
   "id": "99bd974e",
   "metadata": {
    "scrolled": true
   },
   "outputs": [
    {
     "name": "stdout",
     "output_type": "stream",
     "text": [
      "<class 'pandas.core.frame.DataFrame'>\n",
      "RangeIndex: 128975 entries, 0 to 128974\n",
      "Data columns (total 24 columns):\n",
      " #   Column              Non-Null Count   Dtype  \n",
      "---  ------              --------------   -----  \n",
      " 0   index               128975 non-null  int64  \n",
      " 1   Order ID            128975 non-null  object \n",
      " 2   Date                128975 non-null  object \n",
      " 3   Status              128975 non-null  object \n",
      " 4   Fulfilment          128975 non-null  object \n",
      " 5   Sales Channel       128975 non-null  object \n",
      " 6   ship-service-level  128975 non-null  object \n",
      " 7   Style               128975 non-null  object \n",
      " 8   SKU                 128975 non-null  object \n",
      " 9   Category            128975 non-null  object \n",
      " 10  Size                128975 non-null  object \n",
      " 11  ASIN                128975 non-null  object \n",
      " 12  Courier Status      122103 non-null  object \n",
      " 13  Qty                 128975 non-null  int64  \n",
      " 14  currency            121180 non-null  object \n",
      " 15  Amount              121180 non-null  float64\n",
      " 16  ship-city           128942 non-null  object \n",
      " 17  ship-state          128942 non-null  object \n",
      " 18  ship-postal-code    128942 non-null  float64\n",
      " 19  ship-country        128942 non-null  object \n",
      " 20  promotion-ids       79822 non-null   object \n",
      " 21  B2B                 128975 non-null  bool   \n",
      " 22  fulfilled-by        39277 non-null   object \n",
      " 23  Unnamed: 22         79925 non-null   object \n",
      "dtypes: bool(1), float64(2), int64(2), object(19)\n",
      "memory usage: 22.8+ MB\n"
     ]
    }
   ],
   "source": [
    "df.info()"
   ]
  },
  {
   "cell_type": "code",
   "execution_count": 6,
   "id": "0f97544a",
   "metadata": {},
   "outputs": [
    {
     "data": {
      "text/plain": [
       "0"
      ]
     },
     "execution_count": 6,
     "metadata": {},
     "output_type": "execute_result"
    }
   ],
   "source": [
    "df.duplicated().sum()"
   ]
  },
  {
   "cell_type": "code",
   "execution_count": 7,
   "id": "bf6710e4",
   "metadata": {},
   "outputs": [
    {
     "data": {
      "text/plain": [
       "index                     0\n",
       "Order ID                  0\n",
       "Date                      0\n",
       "Status                    0\n",
       "Fulfilment                0\n",
       "Sales Channel             0\n",
       "ship-service-level        0\n",
       "Style                     0\n",
       "SKU                       0\n",
       "Category                  0\n",
       "Size                      0\n",
       "ASIN                      0\n",
       "Courier Status         6872\n",
       "Qty                       0\n",
       "currency               7795\n",
       "Amount                 7795\n",
       "ship-city                33\n",
       "ship-state               33\n",
       "ship-postal-code         33\n",
       "ship-country             33\n",
       "promotion-ids         49153\n",
       "B2B                       0\n",
       "fulfilled-by          89698\n",
       "Unnamed: 22           49050\n",
       "dtype: int64"
      ]
     },
     "execution_count": 7,
     "metadata": {},
     "output_type": "execute_result"
    }
   ],
   "source": [
    "df.isna().sum()"
   ]
  },
  {
   "cell_type": "code",
   "execution_count": 8,
   "id": "76f7f757",
   "metadata": {},
   "outputs": [
    {
     "data": {
      "text/plain": [
       "ship-country\n",
       "IN    128975\n",
       "Name: count, dtype: int64"
      ]
     },
     "execution_count": 8,
     "metadata": {},
     "output_type": "execute_result"
    }
   ],
   "source": [
    "df['ship-country'].fillna(df['ship-country'].mode()[0], inplace = True)\n",
    "df['ship-country'].value_counts()"
   ]
  },
  {
   "cell_type": "code",
   "execution_count": 9,
   "id": "42912350",
   "metadata": {},
   "outputs": [
    {
     "data": {
      "text/plain": [
       "ship-city\n",
       "BENGALURU                                      11250\n",
       "HYDERABAD                                       8074\n",
       "MUMBAI                                          6126\n",
       "NEW DELHI                                       5795\n",
       "CHENNAI                                         5421\n",
       "                                               ...  \n",
       "Khandavalli, peravali mandal, west godavari        1\n",
       "Bhayander west                                     1\n",
       "JAKHALMANDI                                        1\n",
       "Arariya                                            1\n",
       "Halol                                              1\n",
       "Name: count, Length: 8955, dtype: int64"
      ]
     },
     "execution_count": 9,
     "metadata": {},
     "output_type": "execute_result"
    }
   ],
   "source": [
    "df['ship-city'].fillna(df['ship-city'].mode()[0], inplace = True)\n",
    "df['ship-city'].value_counts()"
   ]
  },
  {
   "cell_type": "code",
   "execution_count": 10,
   "id": "73318391",
   "metadata": {},
   "outputs": [
    {
     "data": {
      "text/plain": [
       "ship-state\n",
       "MAHARASHTRA               22293\n",
       "KARNATAKA                 17326\n",
       "TAMIL NADU                11483\n",
       "TELANGANA                 11330\n",
       "UTTAR PRADESH             10638\n",
       "                          ...  \n",
       "Mizoram                       1\n",
       "rajsthan                      1\n",
       "Punjab/Mohali/Zirakpur        1\n",
       "Rajsthan                      1\n",
       "orissa                        1\n",
       "Name: count, Length: 69, dtype: int64"
      ]
     },
     "execution_count": 10,
     "metadata": {},
     "output_type": "execute_result"
    }
   ],
   "source": [
    "df['ship-state'].fillna(df['ship-state'].mode()[0], inplace = True)\n",
    "df['ship-state'].value_counts()"
   ]
  },
  {
   "cell_type": "code",
   "execution_count": 11,
   "id": "5f8b63f0",
   "metadata": {},
   "outputs": [
    {
     "data": {
      "text/plain": [
       "ship-postal-code\n",
       "201301.0    1039\n",
       "122001.0     688\n",
       "560037.0     632\n",
       "560068.0     619\n",
       "560076.0     581\n",
       "            ... \n",
       "144006.0       1\n",
       "829108.0       1\n",
       "263637.0       1\n",
       "815353.0       1\n",
       "629152.0       1\n",
       "Name: count, Length: 9459, dtype: int64"
      ]
     },
     "execution_count": 11,
     "metadata": {},
     "output_type": "execute_result"
    }
   ],
   "source": [
    "df['ship-postal-code'].fillna(df['ship-postal-code'].mode()[0], inplace = True)\n",
    "df['ship-postal-code'].value_counts()"
   ]
  },
  {
   "cell_type": "code",
   "execution_count": 12,
   "id": "744d7412",
   "metadata": {},
   "outputs": [
    {
     "data": {
      "text/plain": [
       "Courier Status\n",
       "Shipped      116359\n",
       "Unshipped      6681\n",
       "Cancelled      5935\n",
       "Name: count, dtype: int64"
      ]
     },
     "execution_count": 12,
     "metadata": {},
     "output_type": "execute_result"
    }
   ],
   "source": [
    "df['Courier Status'].fillna(df['Courier Status'].mode()[0], inplace = True)\n",
    "df['Courier Status'].value_counts()"
   ]
  },
  {
   "cell_type": "code",
   "execution_count": 13,
   "id": "9dd0e21d",
   "metadata": {},
   "outputs": [
    {
     "data": {
      "text/plain": [
       "currency\n",
       "INR    128975\n",
       "Name: count, dtype: int64"
      ]
     },
     "execution_count": 13,
     "metadata": {},
     "output_type": "execute_result"
    }
   ],
   "source": [
    "df['currency'].fillna(df['currency'].mode()[0], inplace = True)\n",
    "df['currency'].value_counts()"
   ]
  },
  {
   "cell_type": "code",
   "execution_count": 14,
   "id": "320b47c8",
   "metadata": {},
   "outputs": [
    {
     "data": {
      "text/plain": [
       "fulfilled-by\n",
       "Amazon service    89698\n",
       "Easy Ship         39277\n",
       "Name: count, dtype: int64"
      ]
     },
     "execution_count": 14,
     "metadata": {},
     "output_type": "execute_result"
    }
   ],
   "source": [
    "df['fulfilled-by'].fillna(\"Amazon service\",inplace = True)\n",
    "df['fulfilled-by'].value_counts()"
   ]
  },
  {
   "cell_type": "code",
   "execution_count": 15,
   "id": "c5ae7cd9",
   "metadata": {},
   "outputs": [],
   "source": [
    "del df['promotion-ids'] \n",
    "del df['Unnamed: 22']      ### Not useful and lots of missing values"
   ]
  },
  {
   "cell_type": "code",
   "execution_count": 16,
   "id": "3727f2a1",
   "metadata": {
    "scrolled": true
   },
   "outputs": [
    {
     "data": {
      "text/plain": [
       "<Axes: >"
      ]
     },
     "execution_count": 16,
     "metadata": {},
     "output_type": "execute_result"
    },
    {
     "data": {
      "image/png": "[encoded data removed]",
      "text/plain": [
       "<Figure size 640x480 with 1 Axes>"
      ]
     },
     "metadata": {},
     "output_type": "display_data"
    }
   ],
   "source": [
    "sns.boxplot(df)"
   ]
  },
  {
   "cell_type": "code",
   "execution_count": 17,
   "id": "adab7bde",
   "metadata": {},
   "outputs": [
    {
     "data": {
      "text/plain": [
       "Amount\n",
       "605.00     7903\n",
       "399.00     5442\n",
       "771.00     2797\n",
       "735.00     2436\n",
       "0.00       2343\n",
       "           ... \n",
       "296.19        1\n",
       "611.43        1\n",
       "757.14        1\n",
       "1797.00       1\n",
       "639.00        1\n",
       "Name: count, Length: 1410, dtype: int64"
      ]
     },
     "execution_count": 17,
     "metadata": {},
     "output_type": "execute_result"
    }
   ],
   "source": [
    "df['Amount'].fillna(df['Amount'].median(),inplace = True)\n",
    "df['Amount'].value_counts()"
   ]
  },
  {
   "cell_type": "code",
   "execution_count": 18,
   "id": "a9a43833",
   "metadata": {},
   "outputs": [],
   "source": [
    "# Mapping status values to desired categories\n",
    "category_mapping = {\n",
    "    'Shipped': ['Shipped', 'Shipped - Delivered to Buyer', 'Shipped - Returned to Seller',\n",
    "                'Shipped - Picked Up', 'Shipped - Returning to Seller',\n",
    "                'Shipped - Out for Delivery', 'Shipped - Rejected by Buyer',\n",
    "                'Shipped - Lost in Transit', 'Shipped - Damaged', 'Shipping'],\n",
    "    'Cancelled': ['Cancelled'],\n",
    "    'Pending': ['Pending', 'Pending - Waiting for Pick Up']\n",
    "}\n",
    "\n",
    "# Function to map status values to categories\n",
    "def map_status(status):\n",
    "    for category, statuses in category_mapping.items():\n",
    "        if status in statuses:\n",
    "            return category\n",
    "    return None  # If status doesn't match any category\n",
    "\n",
    "# Apply mapping function to create a new column 'category'\n",
    "df['Status_category'] = df['Status'].apply(map_status)"
   ]
  },
  {
   "cell_type": "code",
   "execution_count": 19,
   "id": "e80a928b",
   "metadata": {},
   "outputs": [
    {
     "data": {
      "text/plain": [
       "index                 0\n",
       "Order ID              0\n",
       "Date                  0\n",
       "Status                0\n",
       "Fulfilment            0\n",
       "Sales Channel         0\n",
       "ship-service-level    0\n",
       "Style                 0\n",
       "SKU                   0\n",
       "Category              0\n",
       "Size                  0\n",
       "ASIN                  0\n",
       "Courier Status        0\n",
       "Qty                   0\n",
       "currency              0\n",
       "Amount                0\n",
       "ship-city             0\n",
       "ship-state            0\n",
       "ship-postal-code      0\n",
       "ship-country          0\n",
       "B2B                   0\n",
       "fulfilled-by          0\n",
       "Status_category       0\n",
       "dtype: int64"
      ]
     },
     "execution_count": 19,
     "metadata": {},
     "output_type": "execute_result"
    }
   ],
   "source": [
    "df.isna().sum()"
   ]
  },
  {
   "cell_type": "code",
   "execution_count": null,
   "id": "a5b55fc3",
   "metadata": {},
   "outputs": [],
   "source": []
  },
  {
   "cell_type": "code",
   "execution_count": 20,
   "id": "6fc8ce1c",
   "metadata": {},
   "outputs": [
    {
     "name": "stdout",
     "output_type": "stream",
     "text": [
      "<class 'pandas.core.frame.DataFrame'>\n",
      "RangeIndex: 128975 entries, 0 to 128974\n",
      "Data columns (total 23 columns):\n",
      " #   Column              Non-Null Count   Dtype  \n",
      "---  ------              --------------   -----  \n",
      " 0   index               128975 non-null  int64  \n",
      " 1   Order ID            128975 non-null  object \n",
      " 2   Date                128975 non-null  object \n",
      " 3   Status              128975 non-null  object \n",
      " 4   Fulfilment          128975 non-null  object \n",
      " 5   Sales Channel       128975 non-null  object \n",
      " 6   ship-service-level  128975 non-null  object \n",
      " 7   Style               128975 non-null  object \n",
      " 8   SKU                 128975 non-null  object \n",
      " 9   Category            128975 non-null  object \n",
      " 10  Size                128975 non-null  object \n",
      " 11  ASIN                128975 non-null  object \n",
      " 12  Courier Status      128975 non-null  object \n",
      " 13  Qty                 128975 non-null  int64  \n",
      " 14  currency            128975 non-null  object \n",
      " 15  Amount              128975 non-null  float64\n",
      " 16  ship-city           128975 non-null  object \n",
      " 17  ship-state          128975 non-null  object \n",
      " 18  ship-postal-code    128975 non-null  float64\n",
      " 19  ship-country        128975 non-null  object \n",
      " 20  B2B                 128975 non-null  bool   \n",
      " 21  fulfilled-by        128975 non-null  object \n",
      " 22  Status_category     128975 non-null  object \n",
      "dtypes: bool(1), float64(2), int64(2), object(18)\n",
      "memory usage: 21.8+ MB\n"
     ]
    }
   ],
   "source": [
    "df.info()"
   ]
  },
  {
   "cell_type": "code",
   "execution_count": 21,
   "id": "6fd9c959",
   "metadata": {},
   "outputs": [],
   "source": [
    "df.to_csv(\"new.csv\",index=False)"
   ]
  },
  {
   "cell_type": "code",
   "execution_count": 22,
   "id": "f7692150",
   "metadata": {},
   "outputs": [
    {
     "name": "stdout",
     "output_type": "stream",
     "text": [
      "index\n",
      "0         1\n",
      "85979     1\n",
      "85992     1\n",
      "85991     1\n",
      "85990     1\n",
      "         ..\n",
      "42986     1\n",
      "42985     1\n",
      "42984     1\n",
      "42983     1\n",
      "128974    1\n",
      "Name: count, Length: 128975, dtype: int64\n",
      "Order ID\n",
      "171-5057375-2831560    12\n",
      "403-4984515-8861958    12\n",
      "403-0173977-3041148    11\n",
      "404-9932919-6662730    11\n",
      "408-3317403-1729937    10\n",
      "                       ..\n",
      "403-2697348-7766749     1\n",
      "405-0271223-6692335     1\n",
      "406-7498475-4257161     1\n",
      "402-2493916-3621929     1\n",
      "408-7436540-8728312     1\n",
      "Name: count, Length: 120378, dtype: int64\n",
      "Date\n",
      "05-03-22    2085\n",
      "05-02-22    2079\n",
      "05-04-22    2015\n",
      "04-14-22    1883\n",
      "04-15-22    1853\n",
      "            ... \n",
      "06-23-22    1090\n",
      "06-24-22    1028\n",
      "06-25-22    1026\n",
      "06-29-22     658\n",
      "03-31-22     171\n",
      "Name: count, Length: 91, dtype: int64\n",
      "Status\n",
      "Shipped                          77804\n",
      "Shipped - Delivered to Buyer     28769\n",
      "Cancelled                        18332\n",
      "Shipped - Returned to Seller      1953\n",
      "Shipped - Picked Up                973\n",
      "Pending                            658\n",
      "Pending - Waiting for Pick Up      281\n",
      "Shipped - Returning to Seller      145\n",
      "Shipped - Out for Delivery          35\n",
      "Shipped - Rejected by Buyer         11\n",
      "Shipping                             8\n",
      "Shipped - Lost in Transit            5\n",
      "Shipped - Damaged                    1\n",
      "Name: count, dtype: int64\n",
      "Fulfilment\n",
      "Amazon      89698\n",
      "Merchant    39277\n",
      "Name: count, dtype: int64\n",
      "Sales Channel \n",
      "Amazon.in     128851\n",
      "Non-Amazon       124\n",
      "Name: count, dtype: int64\n",
      "ship-service-level\n",
      "Expedited    88615\n",
      "Standard     40360\n",
      "Name: count, dtype: int64\n",
      "Style\n",
      "JNE3797    4224\n",
      "JNE3405    2263\n",
      "J0230      1868\n",
      "SET268     1860\n",
      "J0341      1630\n",
      "           ... \n",
      "BTM004        1\n",
      "SET036        1\n",
      "JNE3157       1\n",
      "JNE3355       1\n",
      "SET045        1\n",
      "Name: count, Length: 1377, dtype: int64\n",
      "SKU\n",
      "JNE3797-KR-L       773\n",
      "JNE3797-KR-M       657\n",
      "JNE3797-KR-S       587\n",
      "JNE3405-KR-L       535\n",
      "J0230-SKD-M        507\n",
      "                  ... \n",
      "BTM004-XXXL          1\n",
      "BL090-XS             1\n",
      "BTM045-PP-M          1\n",
      "SET034-KR-NP-XS      1\n",
      "SET045-KR-NP-M       1\n",
      "Name: count, Length: 7195, dtype: int64\n",
      "Category\n",
      "Set              50284\n",
      "kurta            49877\n",
      "Western Dress    15500\n",
      "Top              10622\n",
      "Ethnic Dress      1159\n",
      "Blouse             926\n",
      "Bottom             440\n",
      "Saree              164\n",
      "Dupatta              3\n",
      "Name: count, dtype: int64\n",
      "Size\n",
      "M       22711\n",
      "L       22132\n",
      "XL      20876\n",
      "XXL     18096\n",
      "S       17090\n",
      "3XL     14816\n",
      "XS      11161\n",
      "6XL       738\n",
      "5XL       550\n",
      "4XL       427\n",
      "Free      378\n",
      "Name: count, dtype: int64\n",
      "ASIN\n",
      "B09SDXFFQ1    773\n",
      "B09SDY8DCT    657\n",
      "B09SDYQ3WG    587\n",
      "B081WSCKPQ    535\n",
      "B08XNJG8B1    507\n",
      "             ... \n",
      "B08QGLTM6G      1\n",
      "B08W8DBLXF      1\n",
      "B09TL1F68S      1\n",
      "B07MY3MVW3      1\n",
      "B07N81TFNY      1\n",
      "Name: count, Length: 7190, dtype: int64\n",
      "Courier Status\n",
      "Shipped      116359\n",
      "Unshipped      6681\n",
      "Cancelled      5935\n",
      "Name: count, dtype: int64\n",
      "Qty\n",
      "1     115780\n",
      "0      12807\n",
      "2        341\n",
      "3         32\n",
      "4          9\n",
      "5          2\n",
      "15         1\n",
      "9          1\n",
      "13         1\n",
      "8          1\n",
      "Name: count, dtype: int64\n",
      "currency\n",
      "INR    128975\n",
      "Name: count, dtype: int64\n",
      "Amount\n",
      "605.00     7903\n",
      "399.00     5442\n",
      "771.00     2797\n",
      "735.00     2436\n",
      "0.00       2343\n",
      "           ... \n",
      "296.19        1\n",
      "611.43        1\n",
      "757.14        1\n",
      "1797.00       1\n",
      "639.00        1\n",
      "Name: count, Length: 1410, dtype: int64\n",
      "ship-city\n",
      "BENGALURU                                      11250\n",
      "HYDERABAD                                       8074\n",
      "MUMBAI                                          6126\n",
      "NEW DELHI                                       5795\n",
      "CHENNAI                                         5421\n",
      "                                               ...  \n",
      "Khandavalli, peravali mandal, west godavari        1\n",
      "Bhayander west                                     1\n",
      "JAKHALMANDI                                        1\n",
      "Arariya                                            1\n",
      "Halol                                              1\n",
      "Name: count, Length: 8955, dtype: int64\n",
      "ship-state\n",
      "MAHARASHTRA               22293\n",
      "KARNATAKA                 17326\n",
      "TAMIL NADU                11483\n",
      "TELANGANA                 11330\n",
      "UTTAR PRADESH             10638\n",
      "                          ...  \n",
      "Mizoram                       1\n",
      "rajsthan                      1\n",
      "Punjab/Mohali/Zirakpur        1\n",
      "Rajsthan                      1\n",
      "orissa                        1\n",
      "Name: count, Length: 69, dtype: int64\n",
      "ship-postal-code\n",
      "201301.0    1039\n",
      "122001.0     688\n",
      "560037.0     632\n",
      "560068.0     619\n",
      "560076.0     581\n",
      "            ... \n",
      "144006.0       1\n",
      "829108.0       1\n",
      "263637.0       1\n",
      "815353.0       1\n",
      "629152.0       1\n",
      "Name: count, Length: 9459, dtype: int64\n",
      "ship-country\n",
      "IN    128975\n",
      "Name: count, dtype: int64\n",
      "B2B\n",
      "False    128104\n",
      "True        871\n",
      "Name: count, dtype: int64\n",
      "fulfilled-by\n",
      "Amazon service    89698\n",
      "Easy Ship         39277\n",
      "Name: count, dtype: int64\n",
      "Status_category\n",
      "Shipped      109704\n",
      "Cancelled     18332\n",
      "Pending         939\n",
      "Name: count, dtype: int64\n"
     ]
    }
   ],
   "source": [
    "for i in df:\n",
    "    print(df[i].value_counts())"
   ]
  },
  {
   "cell_type": "code",
   "execution_count": 23,
   "id": "84bf8c65",
   "metadata": {},
   "outputs": [
    {
     "data": {
      "text/plain": [
       "Status\n",
       "Shipped                          77804\n",
       "Shipped - Delivered to Buyer     28769\n",
       "Cancelled                        18332\n",
       "Shipped - Returned to Seller      1953\n",
       "Shipped - Picked Up                973\n",
       "Pending                            658\n",
       "Pending - Waiting for Pick Up      281\n",
       "Shipped - Returning to Seller      145\n",
       "Shipped - Out for Delivery          35\n",
       "Shipped - Rejected by Buyer         11\n",
       "Shipping                             8\n",
       "Shipped - Lost in Transit            5\n",
       "Shipped - Damaged                    1\n",
       "Name: count, dtype: int64"
      ]
     },
     "execution_count": 23,
     "metadata": {},
     "output_type": "execute_result"
    }
   ],
   "source": [
    "df['Status'].value_counts()"
   ]
  },
  {
   "cell_type": "code",
   "execution_count": null,
   "id": "1fc8d6d1",
   "metadata": {},
   "outputs": [],
   "source": []
  },
  {
   "cell_type": "code",
   "execution_count": 24,
   "id": "a0500b2d",
   "metadata": {},
   "outputs": [
    {
     "data": {
      "text/plain": [
       "0         Cancelled\n",
       "1           Shipped\n",
       "2           Shipped\n",
       "3         Cancelled\n",
       "4           Shipped\n",
       "            ...    \n",
       "128970      Shipped\n",
       "128971      Shipped\n",
       "128972      Shipped\n",
       "128973      Shipped\n",
       "128974      Shipped\n",
       "Name: Status_category, Length: 128975, dtype: object"
      ]
     },
     "execution_count": 24,
     "metadata": {},
     "output_type": "execute_result"
    }
   ],
   "source": [
    "df['Status_category']"
   ]
  },
  {
   "cell_type": "code",
   "execution_count": 25,
   "id": "50fc4567",
   "metadata": {},
   "outputs": [
    {
     "data": {
      "text/html": [
       "<div>\n",
       "<style scoped>\n",
       "    .dataframe tbody tr th:only-of-type {\n",
       "        vertical-align: middle;\n",
       "    }\n",
       "\n",
       "    .dataframe tbody tr th {\n",
       "        vertical-align: top;\n",
       "    }\n",
       "\n",
       "    .dataframe thead th {\n",
       "        text-align: right;\n",
       "    }\n",
       "</style>\n",
       "<table border=\"1\" class=\"dataframe\">\n",
       "  <thead>\n",
       "    <tr style=\"text-align: right;\">\n",
       "      <th></th>\n",
       "      <th>index</th>\n",
       "      <th>Qty</th>\n",
       "      <th>Amount</th>\n",
       "      <th>ship-postal-code</th>\n",
       "    </tr>\n",
       "  </thead>\n",
       "  <tbody>\n",
       "    <tr>\n",
       "      <th>count</th>\n",
       "      <td>128975.000000</td>\n",
       "      <td>128975.000000</td>\n",
       "      <td>128975.000000</td>\n",
       "      <td>128975.000000</td>\n",
       "    </tr>\n",
       "    <tr>\n",
       "      <th>mean</th>\n",
       "      <td>64487.000000</td>\n",
       "      <td>0.904431</td>\n",
       "      <td>645.928694</td>\n",
       "      <td>463899.030052</td>\n",
       "    </tr>\n",
       "    <tr>\n",
       "      <th>std</th>\n",
       "      <td>37232.019822</td>\n",
       "      <td>0.313354</td>\n",
       "      <td>272.778829</td>\n",
       "      <td>191498.352590</td>\n",
       "    </tr>\n",
       "    <tr>\n",
       "      <th>min</th>\n",
       "      <td>0.000000</td>\n",
       "      <td>0.000000</td>\n",
       "      <td>0.000000</td>\n",
       "      <td>110001.000000</td>\n",
       "    </tr>\n",
       "    <tr>\n",
       "      <th>25%</th>\n",
       "      <td>32243.500000</td>\n",
       "      <td>1.000000</td>\n",
       "      <td>459.000000</td>\n",
       "      <td>382421.000000</td>\n",
       "    </tr>\n",
       "    <tr>\n",
       "      <th>50%</th>\n",
       "      <td>64487.000000</td>\n",
       "      <td>1.000000</td>\n",
       "      <td>605.000000</td>\n",
       "      <td>500033.000000</td>\n",
       "    </tr>\n",
       "    <tr>\n",
       "      <th>75%</th>\n",
       "      <td>96730.500000</td>\n",
       "      <td>1.000000</td>\n",
       "      <td>771.000000</td>\n",
       "      <td>600024.000000</td>\n",
       "    </tr>\n",
       "    <tr>\n",
       "      <th>max</th>\n",
       "      <td>128974.000000</td>\n",
       "      <td>15.000000</td>\n",
       "      <td>5584.000000</td>\n",
       "      <td>989898.000000</td>\n",
       "    </tr>\n",
       "  </tbody>\n",
       "</table>\n",
       "</div>"
      ],
      "text/plain": [
       "               index            Qty         Amount  ship-postal-code\n",
       "count  128975.000000  128975.000000  128975.000000     128975.000000\n",
       "mean    64487.000000       0.904431     645.928694     463899.030052\n",
       "std     37232.019822       0.313354     272.778829     191498.352590\n",
       "min         0.000000       0.000000       0.000000     110001.000000\n",
       "25%     32243.500000       1.000000     459.000000     382421.000000\n",
       "50%     64487.000000       1.000000     605.000000     500033.000000\n",
       "75%     96730.500000       1.000000     771.000000     600024.000000\n",
       "max    128974.000000      15.000000    5584.000000     989898.000000"
      ]
     },
     "execution_count": 25,
     "metadata": {},
     "output_type": "execute_result"
    }
   ],
   "source": [
    "df.describe()"
   ]
  },
  {
   "cell_type": "code",
   "execution_count": 26,
   "id": "b65c4cf9",
   "metadata": {},
   "outputs": [
    {
     "ename": "ValueError",
     "evalue": "could not convert string to float: '405-8078784-5731545'",
     "output_type": "error",
     "traceback": [
      "\u001b[1;31m---------------------------------------------------------------------------\u001b[0m",
      "\u001b[1;31mValueError\u001b[0m                                Traceback (most recent call last)",
      "Cell \u001b[1;32mIn[26], line 1\u001b[0m\n\u001b[1;32m----> 1\u001b[0m correlation_matrix \u001b[38;5;241m=\u001b[39m df\u001b[38;5;241m.\u001b[39mcorr()\n\u001b[0;32m      2\u001b[0m plt\u001b[38;5;241m.\u001b[39mfigure(figsize\u001b[38;5;241m=\u001b[39m(\u001b[38;5;241m10\u001b[39m, \u001b[38;5;241m8\u001b[39m))\n\u001b[0;32m      3\u001b[0m sns\u001b[38;5;241m.\u001b[39mheatmap(correlation_matrix, annot\u001b[38;5;241m=\u001b[39m\u001b[38;5;28;01mTrue\u001b[39;00m, cmap\u001b[38;5;241m=\u001b[39m\u001b[38;5;124m'\u001b[39m\u001b[38;5;124mcoolwarm\u001b[39m\u001b[38;5;124m'\u001b[39m, fmt\u001b[38;5;241m=\u001b[39m\u001b[38;5;124m\"\u001b[39m\u001b[38;5;124m.2f\u001b[39m\u001b[38;5;124m\"\u001b[39m)\n",
      "File \u001b[1;32m~\\anaconda3\\Lib\\site-packages\\pandas\\core\\frame.py:10054\u001b[0m, in \u001b[0;36mDataFrame.corr\u001b[1;34m(self, method, min_periods, numeric_only)\u001b[0m\n\u001b[0;32m  10052\u001b[0m cols \u001b[38;5;241m=\u001b[39m data\u001b[38;5;241m.\u001b[39mcolumns\n\u001b[0;32m  10053\u001b[0m idx \u001b[38;5;241m=\u001b[39m cols\u001b[38;5;241m.\u001b[39mcopy()\n\u001b[1;32m> 10054\u001b[0m mat \u001b[38;5;241m=\u001b[39m data\u001b[38;5;241m.\u001b[39mto_numpy(dtype\u001b[38;5;241m=\u001b[39m\u001b[38;5;28mfloat\u001b[39m, na_value\u001b[38;5;241m=\u001b[39mnp\u001b[38;5;241m.\u001b[39mnan, copy\u001b[38;5;241m=\u001b[39m\u001b[38;5;28;01mFalse\u001b[39;00m)\n\u001b[0;32m  10056\u001b[0m \u001b[38;5;28;01mif\u001b[39;00m method \u001b[38;5;241m==\u001b[39m \u001b[38;5;124m\"\u001b[39m\u001b[38;5;124mpearson\u001b[39m\u001b[38;5;124m\"\u001b[39m:\n\u001b[0;32m  10057\u001b[0m     correl \u001b[38;5;241m=\u001b[39m libalgos\u001b[38;5;241m.\u001b[39mnancorr(mat, minp\u001b[38;5;241m=\u001b[39mmin_periods)\n",
      "File \u001b[1;32m~\\anaconda3\\Lib\\site-packages\\pandas\\core\\frame.py:1838\u001b[0m, in \u001b[0;36mDataFrame.to_numpy\u001b[1;34m(self, dtype, copy, na_value)\u001b[0m\n\u001b[0;32m   1836\u001b[0m \u001b[38;5;28;01mif\u001b[39;00m dtype \u001b[38;5;129;01mis\u001b[39;00m \u001b[38;5;129;01mnot\u001b[39;00m \u001b[38;5;28;01mNone\u001b[39;00m:\n\u001b[0;32m   1837\u001b[0m     dtype \u001b[38;5;241m=\u001b[39m np\u001b[38;5;241m.\u001b[39mdtype(dtype)\n\u001b[1;32m-> 1838\u001b[0m result \u001b[38;5;241m=\u001b[39m \u001b[38;5;28mself\u001b[39m\u001b[38;5;241m.\u001b[39m_mgr\u001b[38;5;241m.\u001b[39mas_array(dtype\u001b[38;5;241m=\u001b[39mdtype, copy\u001b[38;5;241m=\u001b[39mcopy, na_value\u001b[38;5;241m=\u001b[39mna_value)\n\u001b[0;32m   1839\u001b[0m \u001b[38;5;28;01mif\u001b[39;00m result\u001b[38;5;241m.\u001b[39mdtype \u001b[38;5;129;01mis\u001b[39;00m \u001b[38;5;129;01mnot\u001b[39;00m dtype:\n\u001b[0;32m   1840\u001b[0m     result \u001b[38;5;241m=\u001b[39m np\u001b[38;5;241m.\u001b[39marray(result, dtype\u001b[38;5;241m=\u001b[39mdtype, copy\u001b[38;5;241m=\u001b[39m\u001b[38;5;28;01mFalse\u001b[39;00m)\n",
      "File \u001b[1;32m~\\anaconda3\\Lib\\site-packages\\pandas\\core\\internals\\managers.py:1732\u001b[0m, in \u001b[0;36mBlockManager.as_array\u001b[1;34m(self, dtype, copy, na_value)\u001b[0m\n\u001b[0;32m   1730\u001b[0m         arr\u001b[38;5;241m.\u001b[39mflags\u001b[38;5;241m.\u001b[39mwriteable \u001b[38;5;241m=\u001b[39m \u001b[38;5;28;01mFalse\u001b[39;00m\n\u001b[0;32m   1731\u001b[0m \u001b[38;5;28;01melse\u001b[39;00m:\n\u001b[1;32m-> 1732\u001b[0m     arr \u001b[38;5;241m=\u001b[39m \u001b[38;5;28mself\u001b[39m\u001b[38;5;241m.\u001b[39m_interleave(dtype\u001b[38;5;241m=\u001b[39mdtype, na_value\u001b[38;5;241m=\u001b[39mna_value)\n\u001b[0;32m   1733\u001b[0m     \u001b[38;5;66;03m# The underlying data was copied within _interleave, so no need\u001b[39;00m\n\u001b[0;32m   1734\u001b[0m     \u001b[38;5;66;03m# to further copy if copy=True or setting na_value\u001b[39;00m\n\u001b[0;32m   1736\u001b[0m \u001b[38;5;28;01mif\u001b[39;00m na_value \u001b[38;5;129;01mis\u001b[39;00m \u001b[38;5;129;01mnot\u001b[39;00m lib\u001b[38;5;241m.\u001b[39mno_default:\n",
      "File \u001b[1;32m~\\anaconda3\\Lib\\site-packages\\pandas\\core\\internals\\managers.py:1794\u001b[0m, in \u001b[0;36mBlockManager._interleave\u001b[1;34m(self, dtype, na_value)\u001b[0m\n\u001b[0;32m   1792\u001b[0m     \u001b[38;5;28;01melse\u001b[39;00m:\n\u001b[0;32m   1793\u001b[0m         arr \u001b[38;5;241m=\u001b[39m blk\u001b[38;5;241m.\u001b[39mget_values(dtype)\n\u001b[1;32m-> 1794\u001b[0m     result[rl\u001b[38;5;241m.\u001b[39mindexer] \u001b[38;5;241m=\u001b[39m arr\n\u001b[0;32m   1795\u001b[0m     itemmask[rl\u001b[38;5;241m.\u001b[39mindexer] \u001b[38;5;241m=\u001b[39m \u001b[38;5;241m1\u001b[39m\n\u001b[0;32m   1797\u001b[0m \u001b[38;5;28;01mif\u001b[39;00m \u001b[38;5;129;01mnot\u001b[39;00m itemmask\u001b[38;5;241m.\u001b[39mall():\n",
      "\u001b[1;31mValueError\u001b[0m: could not convert string to float: '405-8078784-5731545'"
     ]
    }
   ],
   "source": [
    "correlation_matrix = df.corr()\n",
    "plt.figure(figsize=(10, 8))\n",
    "sns.heatmap(correlation_matrix, annot=True, cmap='coolwarm', fmt=\".2f\")\n",
    "plt.title('Correlation Matrix')\n",
    "plt.show()"
   ]
  },
  {
   "cell_type": "code",
   "execution_count": null,
   "id": "120508db",
   "metadata": {},
   "outputs": [],
   "source": [
    "# Distribution of categorical variables\n",
    "categorical_cols = ['Status', 'Fulfilment', 'Sales Channel', 'ship-service-level', 'Category', 'Size', 'Courier Status', 'currency', 'ship-country', 'fulfilled-by']\n",
    "for col in categorical_cols:\n",
    "    plt.figure(figsize=(10, 6))\n",
    "    sns.countplot(df[col])\n",
    "    plt.title(f'Distribution of {col}')\n",
    "    plt.xticks(rotation=45)\n",
    "    plt.show()\n"
   ]
  },
  {
   "cell_type": "code",
   "execution_count": null,
   "id": "5a952fca",
   "metadata": {},
   "outputs": [],
   "source": [
    "sns.countplot(df['Category'])"
   ]
  },
  {
   "cell_type": "code",
   "execution_count": null,
   "id": "e8236295",
   "metadata": {},
   "outputs": [],
   "source": [
    "# Distribution of numerical variables\n",
    "numerical_cols = ['Qty', 'Amount']\n",
    "for col in numerical_cols:\n",
    "    plt.figure(figsize=(10, 6))\n",
    "    sns.histplot(df[col], kde=True)\n",
    "    plt.title(f'Distribution of {col}')\n",
    "    plt.xlabel(col)\n",
    "    plt.ylabel('Frequency')\n",
    "    plt.show()"
   ]
  },
  {
   "cell_type": "code",
   "execution_count": null,
   "id": "e9bf7127",
   "metadata": {},
   "outputs": [],
   "source": [
    "#Display basic information about the dataset\n",
    "print(\"Basic Information about the Dataset:\")\n",
    "print(df.info())\n",
    "\n",
    "# Summary statistics\n",
    "print(\"\\nSummary Statistics:\")\n",
    "print(df.describe())\n",
    "\n",
    "# Pairplot for numeric variables\n",
    "sns.pairplot(df.select_dtypes(include=['int64', 'float64']))\n",
    "plt.show()\n",
    "\n",
    "# Count plot for categorical variables\n",
    "categorical_columns = df.select_dtypes(include=['object', 'bool']).columns\n",
    "for column in categorical_columns:\n",
    "    plt.figure(figsize=(10, 6))\n",
    "    sns.countplot(data=df, x=column, order=df[column].value_counts().index)\n",
    "    plt.title(f'Count Plot of {column}')\n",
    "    plt.xticks(rotation=45)\n",
    "    plt.show()\n",
    "\n",
    "# Correlation heatmap\n",
    "plt.figure(figsize=(12, 8))\n",
    "sns.heatmap(df.corr(), annot=True, cmap='coolwarm', fmt=\".2f\")\n",
    "plt.title('Correlation Heatmap')\n",
    "plt.show()"
   ]
  },
  {
   "cell_type": "code",
   "execution_count": null,
   "id": "93f52882",
   "metadata": {},
   "outputs": [],
   "source": [
    "# # Distribution plot of 'Amount'\n",
    "# plt.figure(figsize=(10, 6))\n",
    "# sns.distplot(df['Amount'], kde=True, bins=30, color='blue')\n",
    "# plt.title('Distribution of Amount')\n",
    "# plt.xlabel('Amount')\n",
    "# plt.ylabel('Density')\n",
    "# plt.show()\n"
   ]
  },
  {
   "cell_type": "code",
   "execution_count": null,
   "id": "72cab40c",
   "metadata": {},
   "outputs": [],
   "source": [
    "# Boxplot of 'Amount' by 'Sales Channel'\n",
    "plt.figure(figsize=(10, 6))\n",
    "sns.boxplot(data=df, x='Sales Channel', y='Amount')\n",
    "plt.title('Boxplot of Amount by Sales Channel')\n",
    "plt.xlabel('Sales Channel')\n",
    "plt.ylabel('Amount')\n",
    "plt.show()\n",
    "\n"
   ]
  },
  {
   "cell_type": "code",
   "execution_count": null,
   "id": "db83efe3",
   "metadata": {},
   "outputs": [],
   "source": [
    "# Histogram of 'Qty'\n",
    "plt.figure(figsize=(10, 6))\n",
    "plt.hist(df['Qty'], bins=20, color='green', edgecolor='black')\n",
    "plt.title('Histogram of Qty')\n",
    "plt.xlabel('Qty')\n",
    "plt.ylabel('Frequency')\n",
    "plt.show()\n",
    "\n"
   ]
  },
  {
   "cell_type": "code",
   "execution_count": null,
   "id": "34dfc099",
   "metadata": {},
   "outputs": [],
   "source": [
    "# QQ plot for 'Amount'\n",
    "plt.figure(figsize=(10, 6))\n",
    "stats.probplot(df['Amount'], dist=\"norm\", plot=plt)\n",
    "plt.title('QQ Plot of Amount')\n",
    "plt.xlabel('Theoretical Quantiles')\n",
    "plt.ylabel('Ordered Values')\n",
    "plt.show()\n",
    "\n"
   ]
  },
  {
   "cell_type": "code",
   "execution_count": null,
   "id": "ed250a09",
   "metadata": {},
   "outputs": [],
   "source": [
    "# Interactive scatter plot using Plotly\n",
    "fig = px.scatter(df, x='Qty', y='Amount', color='Status', hover_data=['Sales Channel', 'Fulfilment'])\n",
    "fig.update_layout(title='Interactive Scatter Plot of Qty vs Amount')\n",
    "fig.show()"
   ]
  },
  {
   "cell_type": "code",
   "execution_count": null,
   "id": "ab954445",
   "metadata": {},
   "outputs": [],
   "source": []
  },
  {
   "cell_type": "code",
   "execution_count": null,
   "id": "71839979",
   "metadata": {},
   "outputs": [],
   "source": []
  }
 ],
 "metadata": {
  "kernelspec": {
   "display_name": "Python 3 (ipykernel)",
   "language": "python",
   "name": "python3"
  },
  "language_info": {
   "codemirror_mode": {
    "name": "ipython",
    "version": 3
   },
   "file_extension": ".py",
   "mimetype": "text/x-python",
   "name": "python",
   "nbconvert_exporter": "python",
   "pygments_lexer": "ipython3",
   "version": "3.11.5"
  }
 },
 "nbformat": 4,
 "nbformat_minor": 5
}
